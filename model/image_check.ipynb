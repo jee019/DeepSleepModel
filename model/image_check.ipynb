{
 "cells": [
  {
   "cell_type": "code",
   "execution_count": 47,
   "metadata": {},
   "outputs": [],
   "source": [
    "import os\n",
    "from PIL import Image\n",
    "\n",
    "cnt = 0\n",
    "folder_path = './train/7'\n",
    "\n",
    "for file_name in os.listdir(folder_path):\n",
    "    # Check if the file is an image\n",
    "    if file_name.endswith('.jpg'):\n",
    "        # Open the image\n",
    "        image_path = os.path.join(folder_path, file_name)\n",
    "        with Image.open(image_path) as img:\n",
    "            # Get the height and width\n",
    "            width, height = img.size\n",
    "\n",
    "            if(width == 682 and height == 228):\n",
    "                cnt += 1\n",
    "            else:\n",
    "                print(file_name)\n",
    "\n",
    "#print('Image width:', width)\n",
    "#print('Image height:', height)"
   ]
  }
 ],
 "metadata": {
  "kernelspec": {
   "display_name": "kw",
   "language": "python",
   "name": "python3"
  },
  "language_info": {
   "codemirror_mode": {
    "name": "ipython",
    "version": 3
   },
   "file_extension": ".py",
   "mimetype": "text/x-python",
   "name": "python",
   "nbconvert_exporter": "python",
   "pygments_lexer": "ipython3",
   "version": "3.10.10"
  },
  "orig_nbformat": 4
 },
 "nbformat": 4,
 "nbformat_minor": 2
}
